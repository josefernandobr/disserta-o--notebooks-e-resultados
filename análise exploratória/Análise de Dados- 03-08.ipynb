{
 "cells": [
  {
   "cell_type": "markdown",
   "metadata": {},
   "source": [
    "# Tratamento de outliers"
   ]
  },
  {
   "cell_type": "code",
   "execution_count": null,
   "metadata": {},
   "outputs": [],
   "source": [
    "'''\n",
    "O que foi feito nesta etapa:\n",
    "----------------------------\n",
    "\n",
    "1. Achar a média de cada variável\n",
    "\n",
    "2. Para cada variável, encontrar o desvio padrão \n",
    "\n",
    "3. Para cada variável, se determinado registro for maior ou igual a três desvios padrões + média (outlier), substituir  o valor \n",
    "   por interpolação linear dos registros adjacentes\n",
    "\n",
    "'''"
   ]
  },
  {
   "cell_type": "code",
   "execution_count": 2,
   "metadata": {},
   "outputs": [],
   "source": [
    "import pandas as pd\n",
    "import warnings\n",
    "warnings.filterwarnings(\"ignore\")"
   ]
  },
  {
   "cell_type": "code",
   "execution_count": 3,
   "metadata": {},
   "outputs": [],
   "source": [
    "#dados da estação de São Cristóvão\n",
    "df_sc_new=pd.read_csv('df_sc_new.csv')"
   ]
  },
  {
   "cell_type": "code",
   "execution_count": 4,
   "metadata": {},
   "outputs": [],
   "source": [
    "#dados da estação da Tijuca\n",
    "df_sp_new=pd.read_csv('df_sp_new.csv')"
   ]
  },
  {
   "cell_type": "code",
   "execution_count": 5,
   "metadata": {},
   "outputs": [
    {
     "data": {
      "text/html": [
       "<div>\n",
       "<style scoped>\n",
       "    .dataframe tbody tr th:only-of-type {\n",
       "        vertical-align: middle;\n",
       "    }\n",
       "\n",
       "    .dataframe tbody tr th {\n",
       "        vertical-align: top;\n",
       "    }\n",
       "\n",
       "    .dataframe thead th {\n",
       "        text-align: right;\n",
       "    }\n",
       "</style>\n",
       "<table border=\"1\" class=\"dataframe\">\n",
       "  <thead>\n",
       "    <tr style=\"text-align: right;\">\n",
       "      <th></th>\n",
       "      <th>Data</th>\n",
       "      <th>Chuva_sc</th>\n",
       "      <th>Pres_sc</th>\n",
       "      <th>RS_sc</th>\n",
       "      <th>Temp_sc</th>\n",
       "      <th>UR_sc</th>\n",
       "      <th>Vel_Vento_sc</th>\n",
       "      <th>SO2_sc</th>\n",
       "      <th>NO2_sc</th>\n",
       "      <th>CO_sc</th>\n",
       "      <th>NO_sc</th>\n",
       "      <th>NOx_sc</th>\n",
       "      <th>O3_sc</th>\n",
       "      <th>PM10_sc</th>\n",
       "    </tr>\n",
       "  </thead>\n",
       "  <tbody>\n",
       "    <tr>\n",
       "      <th>0</th>\n",
       "      <td>2012-10-01 15:30:00</td>\n",
       "      <td>0.0</td>\n",
       "      <td>1012.32</td>\n",
       "      <td>200.12</td>\n",
       "      <td>31.42</td>\n",
       "      <td>57.46</td>\n",
       "      <td>1.7</td>\n",
       "      <td>3.84</td>\n",
       "      <td>31.92</td>\n",
       "      <td>0.11</td>\n",
       "      <td>31.92</td>\n",
       "      <td>43.16</td>\n",
       "      <td>57.61</td>\n",
       "      <td>27.0</td>\n",
       "    </tr>\n",
       "  </tbody>\n",
       "</table>\n",
       "</div>"
      ],
      "text/plain": [
       "                  Data  Chuva_sc  Pres_sc   RS_sc  Temp_sc  UR_sc  \\\n",
       "0  2012-10-01 15:30:00       0.0  1012.32  200.12    31.42  57.46   \n",
       "\n",
       "   Vel_Vento_sc  SO2_sc  NO2_sc  CO_sc  NO_sc  NOx_sc  O3_sc  PM10_sc  \n",
       "0           1.7    3.84   31.92   0.11  31.92   43.16  57.61     27.0  "
      ]
     },
     "execution_count": 5,
     "metadata": {},
     "output_type": "execute_result"
    }
   ],
   "source": [
    "#São Cristóvão\n",
    "df_sc_new.head(1) "
   ]
  },
  {
   "cell_type": "code",
   "execution_count": 6,
   "metadata": {},
   "outputs": [
    {
     "data": {
      "text/html": [
       "<div>\n",
       "<style scoped>\n",
       "    .dataframe tbody tr th:only-of-type {\n",
       "        vertical-align: middle;\n",
       "    }\n",
       "\n",
       "    .dataframe tbody tr th {\n",
       "        vertical-align: top;\n",
       "    }\n",
       "\n",
       "    .dataframe thead th {\n",
       "        text-align: right;\n",
       "    }\n",
       "</style>\n",
       "<table border=\"1\" class=\"dataframe\">\n",
       "  <thead>\n",
       "    <tr style=\"text-align: right;\">\n",
       "      <th></th>\n",
       "      <th>Data</th>\n",
       "      <th>Chuva_sp</th>\n",
       "      <th>Pres_sp</th>\n",
       "      <th>RS_sp</th>\n",
       "      <th>Temp_sp</th>\n",
       "      <th>UR_sp</th>\n",
       "      <th>Vel_Vento_sp</th>\n",
       "      <th>SO2_sp</th>\n",
       "      <th>NO2_sp</th>\n",
       "      <th>CO_sp</th>\n",
       "      <th>NO_sp</th>\n",
       "      <th>NOx_sp</th>\n",
       "      <th>O3_sp</th>\n",
       "      <th>PM10_sp</th>\n",
       "    </tr>\n",
       "  </thead>\n",
       "  <tbody>\n",
       "    <tr>\n",
       "      <th>0</th>\n",
       "      <td>2012-10-01 15:30:00</td>\n",
       "      <td>0.0</td>\n",
       "      <td>1011.48</td>\n",
       "      <td>473.67</td>\n",
       "      <td>33.16</td>\n",
       "      <td>40.58</td>\n",
       "      <td>0.78</td>\n",
       "      <td>3.12</td>\n",
       "      <td>31.92</td>\n",
       "      <td>0.6</td>\n",
       "      <td>31.92</td>\n",
       "      <td>43.16</td>\n",
       "      <td>49.9</td>\n",
       "      <td>27.77</td>\n",
       "    </tr>\n",
       "  </tbody>\n",
       "</table>\n",
       "</div>"
      ],
      "text/plain": [
       "                  Data  Chuva_sp  Pres_sp   RS_sp  Temp_sp  UR_sp  \\\n",
       "0  2012-10-01 15:30:00       0.0  1011.48  473.67    33.16  40.58   \n",
       "\n",
       "   Vel_Vento_sp  SO2_sp  NO2_sp  CO_sp  NO_sp  NOx_sp  O3_sp  PM10_sp  \n",
       "0          0.78    3.12   31.92    0.6  31.92   43.16   49.9    27.77  "
      ]
     },
     "execution_count": 6,
     "metadata": {},
     "output_type": "execute_result"
    }
   ],
   "source": [
    "#Tijuca\n",
    "df_sp_new.head(1) "
   ]
  },
  {
   "cell_type": "code",
   "execution_count": 7,
   "metadata": {},
   "outputs": [],
   "source": [
    "# eliminação das variáveis com menos influentes (encontradas na etapa anterior)\n",
    "df_sp_new=df_sp_new[['Data','Temp_sp','NOx_sp','CO_sp','Chuva_sp','Pres_sp','Vel_Vento_sp','SO2_sp','PM10_sp','O3_sp','UR_sp']]"
   ]
  },
  {
   "cell_type": "code",
   "execution_count": 8,
   "metadata": {},
   "outputs": [],
   "source": [
    "# eliminação das variáveis com menos influentes (encontradas na etapa anterior)\n",
    "df_sc_new=df_sc_new[['Data','Temp_sc','NOx_sc','CO_sc','Chuva_sc','Pres_sc','Vel_Vento_sc','SO2_sc','PM10_sc','O3_sc','UR_sc']]"
   ]
  },
  {
   "cell_type": "code",
   "execution_count": 9,
   "metadata": {},
   "outputs": [
    {
     "data": {
      "text/plain": [
       "Temp_sp          5.603599\n",
       "NOx_sp          35.907004\n",
       "CO_sp            0.252008\n",
       "Chuva_sp         3.706666\n",
       "Pres_sp          5.385422\n",
       "Vel_Vento_sp     1.122239\n",
       "SO2_sp           5.782657\n",
       "PM10_sp         18.924257\n",
       "O3_sp           24.830731\n",
       "UR_sp           19.398027\n",
       "dtype: float64"
      ]
     },
     "execution_count": 9,
     "metadata": {},
     "output_type": "execute_result"
    }
   ],
   "source": [
    "# desvio padrão das variáveis do dataframe da Tijuca\n",
    "df_sp_new.std()"
   ]
  },
  {
   "cell_type": "code",
   "execution_count": 10,
   "metadata": {},
   "outputs": [
    {
     "data": {
      "text/plain": [
       "Temp_sp           24.423311\n",
       "NOx_sp            57.234630\n",
       "CO_sp              0.401673\n",
       "Chuva_sp           0.150513\n",
       "Pres_sp         1015.098704\n",
       "Vel_Vento_sp       0.736632\n",
       "SO2_sp             3.773778\n",
       "PM10_sp           32.948537\n",
       "O3_sp             28.366178\n",
       "UR_sp             65.757445\n",
       "dtype: float64"
      ]
     },
     "execution_count": 10,
     "metadata": {},
     "output_type": "execute_result"
    }
   ],
   "source": [
    "# média das variáveis do dataframe da Tijuca\n",
    "df_sp_new.mean()"
   ]
  },
  {
   "cell_type": "code",
   "execution_count": 11,
   "metadata": {},
   "outputs": [
    {
     "data": {
      "text/plain": [
       "Temp_sc          4.771902\n",
       "NOx_sc          35.907004\n",
       "CO_sc            0.321004\n",
       "Chuva_sc         0.965220\n",
       "Pres_sc          4.810906\n",
       "Vel_Vento_sc     0.582975\n",
       "SO2_sc           9.602003\n",
       "PM10_sc         21.806007\n",
       "O3_sc           26.548084\n",
       "UR_sc           17.142190\n",
       "dtype: float64"
      ]
     },
     "execution_count": 11,
     "metadata": {},
     "output_type": "execute_result"
    }
   ],
   "source": [
    "# desvio padrão das variáveis do dataframe de São Cristóvão\n",
    "df_sc_new.std()"
   ]
  },
  {
   "cell_type": "code",
   "execution_count": 12,
   "metadata": {},
   "outputs": [
    {
     "data": {
      "text/plain": [
       "Temp_sc           26.511795\n",
       "NOx_sc            57.234630\n",
       "CO_sc              0.241478\n",
       "Chuva_sc           0.105082\n",
       "Pres_sc         1014.916328\n",
       "Vel_Vento_sc       0.891624\n",
       "SO2_sc             7.672783\n",
       "PM10_sc           34.386848\n",
       "O3_sc             24.037099\n",
       "UR_sc             72.125128\n",
       "dtype: float64"
      ]
     },
     "execution_count": 12,
     "metadata": {},
     "output_type": "execute_result"
    }
   ],
   "source": [
    "# média das variáveis do dataframe de São Cristóvão\n",
    "df_sc_new.mean()"
   ]
  },
  {
   "cell_type": "markdown",
   "metadata": {},
   "source": [
    "**Tijuca**"
   ]
  },
  {
   "cell_type": "code",
   "execution_count": 13,
   "metadata": {},
   "outputs": [],
   "source": [
    "# Temp_sp\n",
    "def change_Temp_sp(value):\n",
    "    if value>=24.423311+3*5.603599:\n",
    "        value=None\n",
    "    return value\n",
    "\n",
    "# NOx_sp\n",
    "def change_NOx_sp(value):\n",
    "    if value>=57.234630+3*35.907004:\n",
    "        value=None\n",
    "    return value\n",
    "        \n",
    "# CO_sp\n",
    "def change_CO_sp(value):\n",
    "    if value>=0.401673+3*0.252008:\n",
    "        value=None\n",
    "    return value\n",
    "        \n",
    "# Chuva_sp\n",
    "def change_Chuva_sp(value):\n",
    "    if value>=0.150513+3*3.706666:\n",
    "        value=None\n",
    "    return value\n",
    "\n",
    "# Pres_sp\n",
    "def change_Pres_sp(value):\n",
    "    if value>=1015.098704+3*5.385422:\n",
    "        value=None\n",
    "    return value\n",
    "        \n",
    "# Vel_Vento_sp\n",
    "def change_Vel_Vento_sp(value):\n",
    "    if value>=0.736632+3*1.122239:\n",
    "        value=None\n",
    "    return value\n",
    "        \n",
    "# SO2_sp\n",
    "def change_SO2_sp(value):\n",
    "    if value>=3.773778+3*5.782657:\n",
    "        value=None\n",
    "    return value\n",
    "\n",
    "# PM10_sp\n",
    "def change_PM10_sp(value):\n",
    "    if value>=32.948537+3*18.924257:\n",
    "        value=None\n",
    "    return value\n",
    "        \n",
    "# O3_sp\n",
    "def change_O3_sp(value):\n",
    "    if value>=28.366178+3*24.830731:\n",
    "        value=None\n",
    "    return value\n",
    "        \n",
    "# UR_sp\n",
    "def change_UR_sp(value):\n",
    "    if value>=65.757445+3*19.398027:\n",
    "        value=None\n",
    "    return value\n",
    "\n",
    "df_sp_new['Temp_sp']=df_sp_new['Temp_sp'].apply(change_Temp_sp)\n",
    "df_sp_new['NOx_sp']=df_sp_new['NOx_sp'].apply(change_NOx_sp)\n",
    "df_sp_new['CO_sp']=df_sp_new['CO_sp'].apply(change_CO_sp)\n",
    "df_sp_new['Chuva_sp']=df_sp_new['Chuva_sp'].apply(change_Chuva_sp)\n",
    "df_sp_new['Pres_sp']=df_sp_new['Pres_sp'].apply(change_Pres_sp)\n",
    "df_sp_new['Vel_Vento_sp']=df_sp_new['Vel_Vento_sp'].apply(change_Vel_Vento_sp)\n",
    "df_sp_new['SO2_sp']=df_sp_new['SO2_sp'].apply(change_SO2_sp)\n",
    "df_sp_new['PM10_sp']=df_sp_new['PM10_sp'].apply(change_PM10_sp)\n",
    "df_sp_new['O3_sp']=df_sp_new['O3_sp'].apply(change_O3_sp)\n",
    "df_sp_new['UR_sp']=df_sp_new['UR_sp'].apply(change_UR_sp)\n",
    "\n",
    "df_sp_new.interpolate(method='linear', inplace=True)"
   ]
  },
  {
   "cell_type": "markdown",
   "metadata": {},
   "source": [
    "**São Cristóvão**"
   ]
  },
  {
   "cell_type": "code",
   "execution_count": 14,
   "metadata": {},
   "outputs": [],
   "source": [
    "# Temp_sc\n",
    "def change_Temp_sc(value):\n",
    "    if value>= 26.511795+3*4.771902:\n",
    "        value=None\n",
    "    return value\n",
    "\n",
    "# NOx_sc\n",
    "def change_NOx_sc(value):\n",
    "    if value>=57.234630+3*35.907004:\n",
    "        value=None\n",
    "    return value\n",
    "        \n",
    "# CO_sc\n",
    "def change_CO_sc(value):\n",
    "    if value>=0.241478+3*0.321004:\n",
    "        value=None\n",
    "    return value\n",
    "        \n",
    "# Chuva_sc\n",
    "def change_Chuva_sc(value):\n",
    "    if value>=0.105082+3*0.965220:\n",
    "        value=None\n",
    "    return value\n",
    "\n",
    "# Pres_sc\n",
    "def change_Pres_sc(value):\n",
    "    if value>=1014.916328+3*4.810906:\n",
    "        value=None\n",
    "    return value\n",
    "        \n",
    "# Vel_Vento_sc\n",
    "def change_Vel_Vento_sc(value):\n",
    "    if value>=0.891624+3*0.582975:\n",
    "        value=None\n",
    "    return value\n",
    "        \n",
    "# SO2_sc\n",
    "def change_SO2_sc(value):\n",
    "    if value>=7.672783+3*9.602003:\n",
    "        value=None\n",
    "    return value\n",
    "\n",
    "# PM10_sc\n",
    "def change_PM10_sc(value):\n",
    "    if value>=34.386848+3*21.806007:\n",
    "        value=None\n",
    "    return value\n",
    "        \n",
    "# O3_sc\n",
    "def change_O3_sc(value):\n",
    "    if value>=24.037099+3*26.548084:\n",
    "        value=None\n",
    "    return value\n",
    "        \n",
    "# UR_sc\n",
    "def change_UR_sc(value):\n",
    "    if value>=72.125128+3*17.142190:\n",
    "        value=None\n",
    "    return value\n",
    "\n",
    "df_sc_new['Temp_sc']=df_sc_new['Temp_sc'].apply(change_Temp_sc)\n",
    "df_sc_new['NOx_sc']=df_sc_new['NOx_sc'].apply(change_NOx_sc)\n",
    "df_sc_new['CO_sc']=df_sc_new['CO_sc'].apply(change_CO_sc)\n",
    "df_sc_new['Chuva_sc']=df_sc_new['Chuva_sc'].apply(change_Chuva_sc)\n",
    "df_sc_new['Pres_sc']=df_sc_new['Pres_sc'].apply(change_Pres_sc)\n",
    "df_sc_new['Vel_Vento_sc']=df_sc_new['Vel_Vento_sc'].apply(change_Vel_Vento_sc)\n",
    "df_sc_new['SO2_sc']=df_sc_new['SO2_sc'].apply(change_SO2_sc)\n",
    "df_sc_new['PM10_sc']=df_sc_new['PM10_sc'].apply(change_PM10_sc)\n",
    "df_sc_new['O3_sc']=df_sc_new['O3_sc'].apply(change_O3_sc)\n",
    "df_sc_new['UR_sc']=df_sc_new['UR_sc'].apply(change_UR_sc)\n",
    "\n",
    "df_sc_new.interpolate(method='linear', inplace=True)"
   ]
  },
  {
   "cell_type": "markdown",
   "metadata": {},
   "source": [
    "# Agrupamento dos dados por dia + padronização"
   ]
  },
  {
   "cell_type": "code",
   "execution_count": null,
   "metadata": {},
   "outputs": [],
   "source": [
    "'''\n",
    "O que foi feito nesta etapa:\n",
    "----------------------------\n",
    "\n",
    "Conforme a ideia encontrada no artigo deste ano:\n",
    "https://www.researchgate.net/publication/347444018_A_Novel_Deep_Learning_Approach_to_Predict_Air_Quality_Index\n",
    "\n",
    "Os dados, que inicialmente são horários, foram agrupados por dia (máxima diária), isto aumenta o range de previsão do modelo\n",
    "\n",
    "'''"
   ]
  },
  {
   "cell_type": "markdown",
   "metadata": {},
   "source": [
    "**Tijuca**"
   ]
  },
  {
   "cell_type": "code",
   "execution_count": 15,
   "metadata": {},
   "outputs": [],
   "source": [
    "df_sp_new.reset_index(inplace=True)\n",
    "\n",
    "df_sp_new['data_resolved']=df_sp_new['Data'].apply(lambda x: str(x)[:10])\n",
    "\n",
    "df_sp_new = df_sp_new[['Temp_sp', 'NOx_sp', 'CO_sp', 'Chuva_sp', 'Pres_sp',\n",
    "       'Vel_Vento_sp', 'SO2_sp', 'PM10_sp', 'O3_sp', 'UR_sp', 'data_resolved']]\n",
    "\n",
    "df_sp_new = df_sp_new.groupby(['data_resolved'], sort=False)['Temp_sp', 'NOx_sp', 'CO_sp', 'Chuva_sp', 'Pres_sp',\n",
    "       'Vel_Vento_sp', 'SO2_sp', 'PM10_sp', 'O3_sp', 'UR_sp'].max()"
   ]
  },
  {
   "cell_type": "markdown",
   "metadata": {},
   "source": [
    "Foi escolhida normalização ao invés de padronização, pois as distribuições das variáveis não são normais"
   ]
  },
  {
   "cell_type": "code",
   "execution_count": 16,
   "metadata": {},
   "outputs": [],
   "source": [
    "names = df_sp_new.columns\n",
    "\n",
    "from sklearn.preprocessing import MinMaxScaler\n",
    "scaler = MinMaxScaler() \n",
    "data_scaled = scaler.fit_transform(df_sp_new)\n",
    "\n",
    "df_sp_new_scaled = pd.DataFrame(data_scaled, columns=names)\n",
    "\n",
    "df_sp_new_scaled.index=df_sp_new.index"
   ]
  },
  {
   "cell_type": "markdown",
   "metadata": {},
   "source": [
    "**São Cristóvão**"
   ]
  },
  {
   "cell_type": "code",
   "execution_count": 17,
   "metadata": {},
   "outputs": [],
   "source": [
    "df_sc_new.reset_index(inplace=True)\n",
    "\n",
    "df_sc_new['data_resolved']=df_sc_new['Data'].apply(lambda x: str(x)[:10])\n",
    "\n",
    "df_sc_new = df_sc_new[['Temp_sc', 'NOx_sc', 'CO_sc', 'Chuva_sc', 'Pres_sc',\n",
    "       'Vel_Vento_sc', 'SO2_sc', 'PM10_sc', 'O3_sc', 'UR_sc', 'data_resolved']]\n",
    "\n",
    "df_sc_new = df_sc_new.groupby(['data_resolved'], sort=False)['Temp_sc', 'NOx_sc', 'CO_sc', 'Chuva_sc', 'Pres_sc',\n",
    "       'Vel_Vento_sc', 'SO2_sc', 'PM10_sc', 'O3_sc', 'UR_sc'].max()\n",
    "\n",
    "names = df_sc_new.columns\n",
    "\n",
    "# from sklearn.preprocessing import MinMaxScaler\n",
    "scaler = MinMaxScaler() \n",
    "data_scaled = scaler.fit_transform(df_sc_new)\n",
    "\n",
    "df_sc_new_scaled = pd.DataFrame(data_scaled, columns=names)\n",
    "\n",
    "df_sc_new_scaled.index=df_sc_new.index"
   ]
  },
  {
   "cell_type": "markdown",
   "metadata": {},
   "source": [
    "# geração do modelo com dados vetorizados"
   ]
  },
  {
   "cell_type": "code",
   "execution_count": null,
   "metadata": {},
   "outputs": [],
   "source": [
    "'''\n",
    "O que foi feito nesta etapa:\n",
    "----------------------------\n",
    "\n",
    "Conforme a ideia encontrada no artigo de 2020:\n",
    "https://arxiv.org/abs/1903.02791\n",
    "\n",
    "Ao invés de gerar um modelo que prevê a concentração para cada variável separadamente, os dados são vetorizados e é gerado um\n",
    "modelo que faz as previsões para as 10 variáveis em conjunto.\n",
    "\n",
    "'''"
   ]
  },
  {
   "cell_type": "code",
   "execution_count": 19,
   "metadata": {},
   "outputs": [],
   "source": [
    "import time\n",
    "import pandas as pd\n",
    "import seaborn as sns\n",
    "import missingno as msno\n",
    "import warnings\n",
    "from matplotlib import pyplot as plt\n",
    "import datetime\n",
    "import numpy as np\n",
    "from statsmodels.graphics.tsaplots import plot_acf\n",
    "from statsmodels.graphics.tsaplots import plot_pacf\n",
    "from matplotlib import pyplot\n",
    "warnings.filterwarnings('ignore')\n",
    "pd.set_option('display.max_columns',100)\n",
    "\n",
    "from pandas import read_csv\n",
    "from pandas import DataFrame\n",
    "from pandas import concat\n",
    "from sklearn.preprocessing import LabelEncoder\n",
    "from sklearn.preprocessing import MinMaxScaler\n",
    "from sklearn.metrics import mean_squared_error\n",
    "from sklearn.metrics import mean_absolute_error\n",
    "from sklearn.metrics import r2_score #colocar citação\n",
    "\n",
    "from math import sqrt\n",
    "from numpy import concatenate\n",
    "from matplotlib import pyplot\n",
    "\n",
    "from tensorflow.keras.layers import Dense\n",
    "from tensorflow.keras.layers import LSTM\n",
    "from tensorflow.keras.optimizers import Adam\n",
    "from tensorflow.keras.models import Sequential\n",
    "from tensorflow.keras.layers import TimeDistributed"
   ]
  },
  {
   "cell_type": "code",
   "execution_count": 20,
   "metadata": {},
   "outputs": [],
   "source": [
    "values = df_sc_new_scaled.values\n",
    "values = values.astype('float32')\n",
    "\n",
    "# convert series to supervised learning\n",
    "def series_to_supervised(data, n_in=10, n_out=10, dropnan=True):\n",
    "    n_vars = 1 if type(data) is list else data.shape[1]\n",
    "    df = DataFrame(data)\n",
    "    cols, names = list(), list()\n",
    "    # input sequence (t-n, ... t-1)\n",
    "    for i in range(n_in, 0, -1):\n",
    "        cols.append(df.shift(i))\n",
    "        names += [('var%d(t-%d)' % (j+1, i)) for j in range(n_vars)]\n",
    "    # forecast sequence (t, t+1, ... t+n)\n",
    "    for i in range(0, n_out):\n",
    "        cols.append(df.shift(-i))\n",
    "        if i == 0:\n",
    "            names += [('var%d(t)' % (j+1)) for j in range(n_vars)]\n",
    "        else:\n",
    "            names += [('var%d(t+%d)' % (j+1, i)) for j in range(n_vars)]\n",
    "    # put it all together\n",
    "    agg = concat(cols, axis=1)\n",
    "    agg.columns = names\n",
    "    # drop rows with NaN values\n",
    "    if dropnan:\n",
    "        agg.dropna(inplace=True)\n",
    "    return agg\n",
    "\n",
    "# specify the number of lag hours\n",
    "n_days = 7 #input\n",
    "n_features = 10 #10 colunas\n",
    "\n",
    "reframed = series_to_supervised(df_sc_new_scaled, n_days, 1)\n",
    "\n",
    "# split into train and test sets\n",
    "values = reframed.values\n",
    "n_train_days = 2349\n",
    "train = values[:n_train_days, :]\n",
    "test = values[n_train_days:, :]\n",
    "\n",
    "# split into input and outputs\n",
    "n_obs = n_days * n_features\n",
    "train_X= train[:, :n_obs]\n",
    "train_y = train[:,n_obs:]\n",
    "test_X = test[:, :n_obs]\n",
    "test_y = test[:, n_obs:]\n",
    "\n",
    "train_X= train_X.reshape((train_X.shape[0], 1, n_obs))\n",
    "train_y = train_y.reshape((train_y.shape[0], 1, n_features))\n",
    "test_X= test_X.reshape((test_X.shape[0], 1, n_obs))\n",
    "test_y = test_y.reshape((test_y.shape[0], 1, n_features))"
   ]
  },
  {
   "cell_type": "code",
   "execution_count": 21,
   "metadata": {},
   "outputs": [],
   "source": [
    "# design network (falta ajustar o numero de camadas, neurônios etc)\n",
    "opt = Adam(learning_rate=0.0005)\n",
    "model = Sequential()\n",
    "model.add(LSTM(input_shape=(1,70),return_sequences=True, units=70)) #return=True é para retornar todas as variáveis\n",
    "model.add(TimeDistributed(Dense(10))) # é numero de variáveis\n",
    "# model.add(Dropout(0.2))\n",
    "model.add(LSTM(250,return_sequences=True))\n",
    "model.add(TimeDistributed(Dense(10)))\n",
    "# model.add(Dropout(0.2))\n",
    "model.add(Dense(10)) #talvez não precise\n",
    "# model.add(Activation(\"linear\"))\n",
    "model.compile(loss='mse', optimizer=opt)"
   ]
  },
  {
   "cell_type": "code",
   "execution_count": 22,
   "metadata": {},
   "outputs": [
    {
     "name": "stdout",
     "output_type": "stream",
     "text": [
      "Model: \"sequential\"\n",
      "_________________________________________________________________\n",
      "Layer (type)                 Output Shape              Param #   \n",
      "=================================================================\n",
      "lstm (LSTM)                  (None, 1, 70)             39480     \n",
      "_________________________________________________________________\n",
      "time_distributed (TimeDistri (None, 1, 10)             710       \n",
      "_________________________________________________________________\n",
      "lstm_1 (LSTM)                (None, 1, 250)            261000    \n",
      "_________________________________________________________________\n",
      "time_distributed_1 (TimeDist (None, 1, 10)             2510      \n",
      "_________________________________________________________________\n",
      "dense_2 (Dense)              (None, 1, 10)             110       \n",
      "=================================================================\n",
      "Total params: 303,810\n",
      "Trainable params: 303,810\n",
      "Non-trainable params: 0\n",
      "_________________________________________________________________\n",
      "None\n"
     ]
    }
   ],
   "source": [
    "print(model.summary())"
   ]
  },
  {
   "cell_type": "code",
   "execution_count": 23,
   "metadata": {},
   "outputs": [
    {
     "name": "stdout",
     "output_type": "stream",
     "text": [
      "Epoch 1/5\n",
      "5/5 - 4s - loss: 0.3471 - val_loss: 0.3437\n",
      "Epoch 2/5\n",
      "5/5 - 0s - loss: 0.3215 - val_loss: 0.3102\n",
      "Epoch 3/5\n",
      "5/5 - 0s - loss: 0.2843 - val_loss: 0.2638\n",
      "Epoch 4/5\n",
      "5/5 - 0s - loss: 0.2351 - val_loss: 0.2078\n",
      "Epoch 5/5\n",
      "5/5 - 0s - loss: 0.1802 - val_loss: 0.1562\n",
      "\n",
      "Model Runtime: 4.49 seconds\n"
     ]
    }
   ],
   "source": [
    "a=time.time()\n",
    "history = model.fit(train_X, train_y, epochs=5, batch_size=500, validation_data=(test_X, test_y), verbose=2, shuffle=False)\n",
    "print(\"\\nModel Runtime: %0.2f seconds\"%((time.time() - a)))"
   ]
  },
  {
   "cell_type": "code",
   "execution_count": 24,
   "metadata": {},
   "outputs": [],
   "source": [
    "#Ajuste dos dados para obtenção das métricas\n",
    "yhat = model.predict(test_X)\n",
    "yhat_teste = yhat.reshape((yhat.shape[0], n_features))\n",
    "yhat = yhat.reshape((yhat.shape[0], n_features))\n",
    "test_y = test_y.reshape((test_y.shape[0], n_features))\n",
    "inv_yhat = scaler.inverse_transform(yhat)\n",
    "inv_test_y = scaler.inverse_transform(test_y)\n",
    "df_inv_yhat=pd.DataFrame(inv_yhat,columns=names)\n",
    "df_test_y=pd.DataFrame(inv_test_y,columns=names)"
   ]
  },
  {
   "cell_type": "code",
   "execution_count": 25,
   "metadata": {},
   "outputs": [
    {
     "data": {
      "text/html": [
       "<div>\n",
       "<style scoped>\n",
       "    .dataframe tbody tr th:only-of-type {\n",
       "        vertical-align: middle;\n",
       "    }\n",
       "\n",
       "    .dataframe tbody tr th {\n",
       "        vertical-align: top;\n",
       "    }\n",
       "\n",
       "    .dataframe thead th {\n",
       "        text-align: right;\n",
       "    }\n",
       "</style>\n",
       "<table border=\"1\" class=\"dataframe\">\n",
       "  <thead>\n",
       "    <tr style=\"text-align: right;\">\n",
       "      <th></th>\n",
       "      <th>Temp_sc</th>\n",
       "      <th>NOx_sc</th>\n",
       "      <th>CO_sc</th>\n",
       "      <th>Chuva_sc</th>\n",
       "      <th>Pres_sc</th>\n",
       "      <th>Vel_Vento_sc</th>\n",
       "      <th>SO2_sc</th>\n",
       "      <th>PM10_sc</th>\n",
       "      <th>O3_sc</th>\n",
       "      <th>UR_sc</th>\n",
       "    </tr>\n",
       "  </thead>\n",
       "  <tbody>\n",
       "    <tr>\n",
       "      <th>0</th>\n",
       "      <td>20.435537</td>\n",
       "      <td>73.719727</td>\n",
       "      <td>0.357447</td>\n",
       "      <td>-0.689025</td>\n",
       "      <td>1009.681946</td>\n",
       "      <td>0.975675</td>\n",
       "      <td>15.763798</td>\n",
       "      <td>20.165257</td>\n",
       "      <td>56.272282</td>\n",
       "      <td>78.393005</td>\n",
       "    </tr>\n",
       "  </tbody>\n",
       "</table>\n",
       "</div>"
      ],
      "text/plain": [
       "     Temp_sc     NOx_sc     CO_sc  Chuva_sc      Pres_sc  Vel_Vento_sc  \\\n",
       "0  20.435537  73.719727  0.357447 -0.689025  1009.681946      0.975675   \n",
       "\n",
       "      SO2_sc    PM10_sc      O3_sc      UR_sc  \n",
       "0  15.763798  20.165257  56.272282  78.393005  "
      ]
     },
     "execution_count": 25,
     "metadata": {},
     "output_type": "execute_result"
    }
   ],
   "source": [
    "df_inv_yhat.head(1)"
   ]
  },
  {
   "cell_type": "code",
   "execution_count": 26,
   "metadata": {},
   "outputs": [
    {
     "data": {
      "text/html": [
       "<div>\n",
       "<style scoped>\n",
       "    .dataframe tbody tr th:only-of-type {\n",
       "        vertical-align: middle;\n",
       "    }\n",
       "\n",
       "    .dataframe tbody tr th {\n",
       "        vertical-align: top;\n",
       "    }\n",
       "\n",
       "    .dataframe thead th {\n",
       "        text-align: right;\n",
       "    }\n",
       "</style>\n",
       "<table border=\"1\" class=\"dataframe\">\n",
       "  <thead>\n",
       "    <tr style=\"text-align: right;\">\n",
       "      <th></th>\n",
       "      <th>Temp_sc</th>\n",
       "      <th>NOx_sc</th>\n",
       "      <th>CO_sc</th>\n",
       "      <th>Chuva_sc</th>\n",
       "      <th>Pres_sc</th>\n",
       "      <th>Vel_Vento_sc</th>\n",
       "      <th>SO2_sc</th>\n",
       "      <th>PM10_sc</th>\n",
       "      <th>O3_sc</th>\n",
       "      <th>UR_sc</th>\n",
       "    </tr>\n",
       "  </thead>\n",
       "  <tbody>\n",
       "    <tr>\n",
       "      <th>0</th>\n",
       "      <td>30.039513</td>\n",
       "      <td>45.78</td>\n",
       "      <td>0.13</td>\n",
       "      <td>0.0</td>\n",
       "      <td>1014.38</td>\n",
       "      <td>2.47</td>\n",
       "      <td>6.29</td>\n",
       "      <td>39.255877</td>\n",
       "      <td>96.43</td>\n",
       "      <td>82.238123</td>\n",
       "    </tr>\n",
       "  </tbody>\n",
       "</table>\n",
       "</div>"
      ],
      "text/plain": [
       "     Temp_sc  NOx_sc  CO_sc  Chuva_sc  Pres_sc  Vel_Vento_sc  SO2_sc  \\\n",
       "0  30.039513   45.78   0.13       0.0  1014.38          2.47    6.29   \n",
       "\n",
       "     PM10_sc  O3_sc      UR_sc  \n",
       "0  39.255877  96.43  82.238123  "
      ]
     },
     "execution_count": 26,
     "metadata": {},
     "output_type": "execute_result"
    }
   ],
   "source": [
    "df_test_y.head(1)"
   ]
  },
  {
   "cell_type": "markdown",
   "metadata": {},
   "source": [
    "### Cálculo do RMSE"
   ]
  },
  {
   "cell_type": "markdown",
   "metadata": {},
   "source": [
    "Temp_sc"
   ]
  },
  {
   "cell_type": "code",
   "execution_count": 28,
   "metadata": {},
   "outputs": [
    {
     "name": "stdout",
     "output_type": "stream",
     "text": [
      "Test RMSE: 11.939\n"
     ]
    }
   ],
   "source": [
    "rmse = sqrt(mean_squared_error(df_inv_yhat['Temp_sc'], df_test_y['Temp_sc']))\n",
    "print('Test RMSE: %.3f' % rmse)"
   ]
  },
  {
   "cell_type": "markdown",
   "metadata": {},
   "source": [
    "NOx_sc"
   ]
  },
  {
   "cell_type": "code",
   "execution_count": 29,
   "metadata": {},
   "outputs": [
    {
     "name": "stdout",
     "output_type": "stream",
     "text": [
      "Test RMSE: 39.277\n"
     ]
    }
   ],
   "source": [
    "rmse = sqrt(mean_squared_error(df_inv_yhat['NOx_sc'], df_test_y['NOx_sc']))\n",
    "print('Test RMSE: %.3f' % rmse)"
   ]
  },
  {
   "cell_type": "markdown",
   "metadata": {},
   "source": [
    "CO_sc"
   ]
  },
  {
   "cell_type": "code",
   "execution_count": 30,
   "metadata": {},
   "outputs": [
    {
     "name": "stdout",
     "output_type": "stream",
     "text": [
      "Test RMSE: 0.352\n"
     ]
    }
   ],
   "source": [
    "rmse = sqrt(mean_squared_error(df_inv_yhat['CO_sc'], df_test_y['CO_sc']))\n",
    "print('Test RMSE: %.3f' % rmse)"
   ]
  },
  {
   "cell_type": "markdown",
   "metadata": {},
   "source": [
    "Chuva_sc"
   ]
  },
  {
   "cell_type": "code",
   "execution_count": 31,
   "metadata": {},
   "outputs": [
    {
     "name": "stdout",
     "output_type": "stream",
     "text": [
      "Test RMSE: 1.465\n"
     ]
    }
   ],
   "source": [
    "rmse = sqrt(mean_squared_error(df_inv_yhat['Chuva_sc'], df_test_y['Chuva_sc']))\n",
    "print('Test RMSE: %.3f' % rmse)"
   ]
  },
  {
   "cell_type": "markdown",
   "metadata": {},
   "source": [
    "Pres_sc"
   ]
  },
  {
   "cell_type": "code",
   "execution_count": 32,
   "metadata": {},
   "outputs": [
    {
     "name": "stdout",
     "output_type": "stream",
     "text": [
      "Test RMSE: 8.520\n"
     ]
    }
   ],
   "source": [
    "rmse = sqrt(mean_squared_error(df_inv_yhat['Pres_sc'], df_test_y['Pres_sc']))\n",
    "print('Test RMSE: %.3f' % rmse)"
   ]
  },
  {
   "cell_type": "markdown",
   "metadata": {},
   "source": [
    "Vel_Vento_sc"
   ]
  },
  {
   "cell_type": "code",
   "execution_count": 33,
   "metadata": {},
   "outputs": [
    {
     "name": "stdout",
     "output_type": "stream",
     "text": [
      "Test RMSE: 1.047\n"
     ]
    }
   ],
   "source": [
    "rmse = sqrt(mean_squared_error(df_inv_yhat['Vel_Vento_sc'], df_test_y['Vel_Vento_sc']))\n",
    "print('Test RMSE: %.3f' % rmse)"
   ]
  },
  {
   "cell_type": "markdown",
   "metadata": {},
   "source": [
    "SO2_sc"
   ]
  },
  {
   "cell_type": "code",
   "execution_count": 34,
   "metadata": {},
   "outputs": [
    {
     "name": "stdout",
     "output_type": "stream",
     "text": [
      "Test RMSE: 10.180\n"
     ]
    }
   ],
   "source": [
    "rmse = sqrt(mean_squared_error(df_inv_yhat['SO2_sc'], df_test_y['SO2_sc']))\n",
    "print('Test RMSE: %.3f' % rmse)"
   ]
  },
  {
   "cell_type": "markdown",
   "metadata": {},
   "source": [
    "PM10_sc"
   ]
  },
  {
   "cell_type": "code",
   "execution_count": 35,
   "metadata": {},
   "outputs": [
    {
     "name": "stdout",
     "output_type": "stream",
     "text": [
      "Test RMSE: 44.833\n"
     ]
    }
   ],
   "source": [
    "rmse = sqrt(mean_squared_error(df_inv_yhat['PM10_sc'], df_test_y['PM10_sc']))\n",
    "print('Test RMSE: %.3f' % rmse)"
   ]
  },
  {
   "cell_type": "markdown",
   "metadata": {},
   "source": [
    "O3_sc"
   ]
  },
  {
   "cell_type": "code",
   "execution_count": 36,
   "metadata": {},
   "outputs": [
    {
     "name": "stdout",
     "output_type": "stream",
     "text": [
      "Test RMSE: 25.406\n"
     ]
    }
   ],
   "source": [
    "rmse = sqrt(mean_squared_error(df_inv_yhat['O3_sc'], df_test_y['O3_sc']))\n",
    "print('Test RMSE: %.3f' % rmse)"
   ]
  },
  {
   "cell_type": "markdown",
   "metadata": {},
   "source": [
    "UR_sc"
   ]
  },
  {
   "cell_type": "code",
   "execution_count": 37,
   "metadata": {},
   "outputs": [
    {
     "name": "stdout",
     "output_type": "stream",
     "text": [
      "Test RMSE: 15.416\n"
     ]
    }
   ],
   "source": [
    "rmse = sqrt(mean_squared_error(df_inv_yhat['UR_sc'], df_test_y['UR_sc']))\n",
    "print('Test RMSE: %.3f' % rmse)"
   ]
  },
  {
   "cell_type": "markdown",
   "metadata": {},
   "source": [
    "### Cálculo do MAE "
   ]
  },
  {
   "cell_type": "markdown",
   "metadata": {},
   "source": [
    "Temp_sc"
   ]
  },
  {
   "cell_type": "code",
   "execution_count": 38,
   "metadata": {},
   "outputs": [
    {
     "name": "stdout",
     "output_type": "stream",
     "text": [
      "Test MAE: 10.958\n"
     ]
    }
   ],
   "source": [
    "mae = mean_absolute_error(df_inv_yhat['Temp_sc'], df_test_y['Temp_sc'])\n",
    "print('Test MAE: %.3f' % mae)"
   ]
  },
  {
   "cell_type": "markdown",
   "metadata": {},
   "source": [
    "NOx_sc"
   ]
  },
  {
   "cell_type": "code",
   "execution_count": 39,
   "metadata": {},
   "outputs": [
    {
     "name": "stdout",
     "output_type": "stream",
     "text": [
      "Test MAE: 32.749\n"
     ]
    }
   ],
   "source": [
    "mae = mean_absolute_error(df_inv_yhat['NOx_sc'], df_test_y['NOx_sc'])\n",
    "print('Test MAE: %.3f' % mae)"
   ]
  },
  {
   "cell_type": "markdown",
   "metadata": {},
   "source": [
    "CO_sc"
   ]
  },
  {
   "cell_type": "code",
   "execution_count": 40,
   "metadata": {},
   "outputs": [
    {
     "name": "stdout",
     "output_type": "stream",
     "text": [
      "Test MAE: 0.268\n"
     ]
    }
   ],
   "source": [
    "mae = mean_absolute_error(df_inv_yhat['CO_sc'], df_test_y['CO_sc'])\n",
    "print('Test MAE: %.3f' % mae)"
   ]
  },
  {
   "cell_type": "markdown",
   "metadata": {},
   "source": [
    "Chuva_sc"
   ]
  },
  {
   "cell_type": "code",
   "execution_count": 41,
   "metadata": {},
   "outputs": [
    {
     "name": "stdout",
     "output_type": "stream",
     "text": [
      "Test MAE: 1.197\n"
     ]
    }
   ],
   "source": [
    "mae = mean_absolute_error(df_inv_yhat['Chuva_sc'], df_test_y['Chuva_sc'])\n",
    "print('Test MAE: %.3f' % mae)"
   ]
  },
  {
   "cell_type": "markdown",
   "metadata": {},
   "source": [
    "Pres_sc"
   ]
  },
  {
   "cell_type": "code",
   "execution_count": 42,
   "metadata": {},
   "outputs": [
    {
     "name": "stdout",
     "output_type": "stream",
     "text": [
      "Test MAE: 7.319\n"
     ]
    }
   ],
   "source": [
    "mae = mean_absolute_error(df_inv_yhat['Pres_sc'], df_test_y['Pres_sc'])\n",
    "print('Test MAE: %.3f' % mae)"
   ]
  },
  {
   "cell_type": "markdown",
   "metadata": {},
   "source": [
    "Vel_Vento_sc"
   ]
  },
  {
   "cell_type": "code",
   "execution_count": 43,
   "metadata": {},
   "outputs": [
    {
     "name": "stdout",
     "output_type": "stream",
     "text": [
      "Test MAE: 0.946\n"
     ]
    }
   ],
   "source": [
    "mae = mean_absolute_error(df_inv_yhat['Vel_Vento_sc'], df_test_y['Vel_Vento_sc'])\n",
    "print('Test MAE: %.3f' % mae)"
   ]
  },
  {
   "cell_type": "markdown",
   "metadata": {},
   "source": [
    "SO2_sc"
   ]
  },
  {
   "cell_type": "code",
   "execution_count": 44,
   "metadata": {},
   "outputs": [
    {
     "name": "stdout",
     "output_type": "stream",
     "text": [
      "Test MAE: 8.598\n"
     ]
    }
   ],
   "source": [
    "mae = mean_absolute_error(df_inv_yhat['SO2_sc'], df_test_y['SO2_sc'])\n",
    "print('Test MAE: %.3f' % mae)"
   ]
  },
  {
   "cell_type": "markdown",
   "metadata": {},
   "source": [
    "PM10_sc"
   ]
  },
  {
   "cell_type": "code",
   "execution_count": 45,
   "metadata": {},
   "outputs": [
    {
     "name": "stdout",
     "output_type": "stream",
     "text": [
      "Test MAE: 39.313\n"
     ]
    }
   ],
   "source": [
    "mae = mean_absolute_error(df_inv_yhat['PM10_sc'], df_test_y['PM10_sc'])\n",
    "print('Test MAE: %.3f' % mae)"
   ]
  },
  {
   "cell_type": "markdown",
   "metadata": {},
   "source": [
    "O3_sc"
   ]
  },
  {
   "cell_type": "code",
   "execution_count": 46,
   "metadata": {},
   "outputs": [
    {
     "name": "stdout",
     "output_type": "stream",
     "text": [
      "Test MAE: 21.432\n"
     ]
    }
   ],
   "source": [
    "mae = mean_absolute_error(df_inv_yhat['O3_sc'], df_test_y['O3_sc'])\n",
    "print('Test MAE: %.3f' % mae)"
   ]
  },
  {
   "cell_type": "markdown",
   "metadata": {},
   "source": [
    "UR_sc"
   ]
  },
  {
   "cell_type": "code",
   "execution_count": 47,
   "metadata": {},
   "outputs": [
    {
     "name": "stdout",
     "output_type": "stream",
     "text": [
      "Test MAE: 14.034\n"
     ]
    }
   ],
   "source": [
    "mae = mean_absolute_error(df_inv_yhat['UR_sc'], df_test_y['UR_sc'])\n",
    "print('Test MAE: %.3f' % mae)"
   ]
  },
  {
   "cell_type": "markdown",
   "metadata": {},
   "source": [
    "### Cálculo do R2"
   ]
  },
  {
   "cell_type": "markdown",
   "metadata": {},
   "source": [
    "Temp_sc"
   ]
  },
  {
   "cell_type": "code",
   "execution_count": 48,
   "metadata": {},
   "outputs": [
    {
     "name": "stdout",
     "output_type": "stream",
     "text": [
      "Test R2: -5166.143\n"
     ]
    }
   ],
   "source": [
    "r2=r2_score(df_inv_yhat['Temp_sc'], df_test_y['Temp_sc'])\n",
    "print('Test R2: %.3f' % r2)"
   ]
  },
  {
   "cell_type": "markdown",
   "metadata": {},
   "source": [
    "NOx_sc"
   ]
  },
  {
   "cell_type": "code",
   "execution_count": 49,
   "metadata": {},
   "outputs": [
    {
     "name": "stdout",
     "output_type": "stream",
     "text": [
      "Test R2: -41.812\n"
     ]
    }
   ],
   "source": [
    "r2=r2_score(df_inv_yhat['NOx_sc'], df_test_y['NOx_sc'])\n",
    "print('Test R2: %.3f' % r2)"
   ]
  },
  {
   "cell_type": "markdown",
   "metadata": {},
   "source": [
    "CO_sc"
   ]
  },
  {
   "cell_type": "code",
   "execution_count": 50,
   "metadata": {},
   "outputs": [
    {
     "name": "stdout",
     "output_type": "stream",
     "text": [
      "Test R2: -131.849\n"
     ]
    }
   ],
   "source": [
    "r2=r2_score(df_inv_yhat['CO_sc'], df_test_y['CO_sc'])\n",
    "print('Test R2: %.3f' % r2)"
   ]
  },
  {
   "cell_type": "markdown",
   "metadata": {},
   "source": [
    "Chuva_sc"
   ]
  },
  {
   "cell_type": "code",
   "execution_count": 51,
   "metadata": {},
   "outputs": [
    {
     "name": "stdout",
     "output_type": "stream",
     "text": [
      "Test R2: -396.009\n"
     ]
    }
   ],
   "source": [
    "r2=r2_score(df_inv_yhat['Pres_sc'], df_test_y['Pres_sc'])\n",
    "print('Test R2: %.3f' % r2)"
   ]
  },
  {
   "cell_type": "markdown",
   "metadata": {},
   "source": [
    "Pres_sc"
   ]
  },
  {
   "cell_type": "code",
   "execution_count": 52,
   "metadata": {},
   "outputs": [
    {
     "name": "stdout",
     "output_type": "stream",
     "text": [
      "Test R2: -396.009\n"
     ]
    }
   ],
   "source": [
    "r2=r2_score(df_inv_yhat['Pres_sc'], df_test_y['Pres_sc'])\n",
    "print('Test R2: %.3f' % r2)"
   ]
  },
  {
   "cell_type": "markdown",
   "metadata": {},
   "source": [
    "Vel_Vento_sc"
   ]
  },
  {
   "cell_type": "code",
   "execution_count": 53,
   "metadata": {},
   "outputs": [
    {
     "name": "stdout",
     "output_type": "stream",
     "text": [
      "Test R2: -1004.797\n"
     ]
    }
   ],
   "source": [
    "r2=r2_score(df_inv_yhat['Vel_Vento_sc'], df_test_y['Vel_Vento_sc'])\n",
    "print('Test R2: %.3f' % r2)"
   ]
  },
  {
   "cell_type": "markdown",
   "metadata": {},
   "source": [
    "SO2_sc"
   ]
  },
  {
   "cell_type": "code",
   "execution_count": 54,
   "metadata": {},
   "outputs": [
    {
     "name": "stdout",
     "output_type": "stream",
     "text": [
      "Test R2: -54.539\n"
     ]
    }
   ],
   "source": [
    "r2=r2_score(df_inv_yhat['SO2_sc'], df_test_y['SO2_sc'])\n",
    "print('Test R2: %.3f' % r2)"
   ]
  },
  {
   "cell_type": "markdown",
   "metadata": {},
   "source": [
    "PM10_sc"
   ]
  },
  {
   "cell_type": "code",
   "execution_count": 55,
   "metadata": {},
   "outputs": [
    {
     "name": "stdout",
     "output_type": "stream",
     "text": [
      "Test R2: -2310.387\n"
     ]
    }
   ],
   "source": [
    "r2=r2_score(df_inv_yhat['PM10_sc'], df_test_y['PM10_sc'])\n",
    "print('Test R2: %.3f' % r2)"
   ]
  },
  {
   "cell_type": "markdown",
   "metadata": {},
   "source": [
    "O3_sc"
   ]
  },
  {
   "cell_type": "code",
   "execution_count": 56,
   "metadata": {},
   "outputs": [
    {
     "name": "stdout",
     "output_type": "stream",
     "text": [
      "Test R2: -30.477\n"
     ]
    }
   ],
   "source": [
    "r2=r2_score(df_inv_yhat['O3_sc'], df_test_y['O3_sc'])\n",
    "print('Test R2: %.3f' % r2)"
   ]
  },
  {
   "cell_type": "markdown",
   "metadata": {},
   "source": [
    "UR_sc"
   ]
  },
  {
   "cell_type": "code",
   "execution_count": 57,
   "metadata": {},
   "outputs": [
    {
     "name": "stdout",
     "output_type": "stream",
     "text": [
      "Test R2: -85.406\n"
     ]
    }
   ],
   "source": [
    "r2=r2_score(df_inv_yhat['UR_sc'], df_test_y['UR_sc'])\n",
    "print('Test R2: %.3f' % r2)"
   ]
  },
  {
   "cell_type": "markdown",
   "metadata": {},
   "source": [
    "**história do treinamento**"
   ]
  },
  {
   "cell_type": "code",
   "execution_count": 27,
   "metadata": {},
   "outputs": [
    {
     "data": {
      "image/png": "[encoded data removed]",
      "text/plain": [
       "<Figure size 1296x648 with 1 Axes>"
      ]
     },
     "metadata": {},
     "output_type": "display_data"
    }
   ],
   "source": [
    "plt.style.use('seaborn')\n",
    "plt.figure(figsize=(18,9))\n",
    "pyplot.plot(history.history['loss'], label='train', color='blue')\n",
    "pyplot.plot(history.history['val_loss'], label='test', color='red')\n",
    "plt.xlabel('epoch',fontsize=20)\n",
    "plt.ylabel('loss',fontsize=20) \n",
    "# plt.title('train and test loss evolution',fontsize=20)\n",
    "plt.xticks(fontsize=20)\n",
    "plt.yticks(fontsize=20)\n",
    "plt.tight_layout()\n",
    "pyplot.legend(fontsize=20)\n",
    "pyplot.show()"
   ]
  },
  {
   "cell_type": "markdown",
   "metadata": {},
   "source": [
    "# validação cruzada- método 1- block cross validation"
   ]
  },
  {
   "cell_type": "code",
   "execution_count": 58,
   "metadata": {},
   "outputs": [],
   "source": [
    "from IPython.display import Image\n",
    "# Image(\"img/picture.png\")"
   ]
  },
  {
   "cell_type": "code",
   "execution_count": null,
   "metadata": {},
   "outputs": [],
   "source": [
    "'''\n",
    "O que foi feito nesta etapa:\n",
    "----------------------------\n",
    "\n",
    "Conforme a teoria encontrada no artigo abaixo:\n",
    "https://medium.com/@soumyachess1496/cross-validation-in-time-series-566ae4981ce4\n",
    "\n",
    "Foram experimentadas dois métodos de validação cruzada com série temporal\n",
    "\n",
    "aqui usei k=5 e coloquei somente a primeira quinta parte do treinamento como exemplo, utilizando os dados do dataframe\n",
    "correspondente a estação de São Cristóvão\n",
    "\n",
    "'''"
   ]
  },
  {
   "cell_type": "code",
   "execution_count": 59,
   "metadata": {},
   "outputs": [
    {
     "data": {
      "image/png": "[encoded data removed]",
      "text/plain": [
       "<IPython.core.display.Image object>"
      ]
     },
     "execution_count": 59,
     "metadata": {},
     "output_type": "execute_result"
    }
   ],
   "source": [
    "Image(\"block.png\")"
   ]
  },
  {
   "cell_type": "markdown",
   "metadata": {},
   "source": [
    "**divisão dos folds (k=5)**"
   ]
  },
  {
   "cell_type": "code",
   "execution_count": 62,
   "metadata": {},
   "outputs": [],
   "source": [
    "import time\n",
    "import pandas as pd\n",
    "import seaborn as sns\n",
    "import missingno as msno\n",
    "import warnings\n",
    "from matplotlib import pyplot as plt\n",
    "import datetime\n",
    "import numpy as np\n",
    "from statsmodels.graphics.tsaplots import plot_acf\n",
    "from statsmodels.graphics.tsaplots import plot_pacf\n",
    "from matplotlib import pyplot\n",
    "warnings.filterwarnings('ignore')\n",
    "pd.set_option('display.max_columns',100)\n",
    "\n",
    "from pandas import read_csv\n",
    "from pandas import DataFrame\n",
    "from pandas import concat\n",
    "from sklearn.preprocessing import LabelEncoder\n",
    "from sklearn.preprocessing import MinMaxScaler\n",
    "from sklearn.metrics import mean_squared_error\n",
    "from sklearn.metrics import mean_absolute_error\n",
    "from sklearn.metrics import r2_score #colocar citação\n",
    "\n",
    "from math import sqrt\n",
    "from numpy import concatenate\n",
    "from matplotlib import pyplot\n",
    "\n",
    "from tensorflow.keras.layers import Dense\n",
    "from tensorflow.keras.layers import LSTM\n",
    "from tensorflow.keras.optimizers import Adam\n",
    "from tensorflow.keras.models import Sequential\n",
    "from tensorflow.keras.layers import TimeDistributed\n",
    "\n",
    "df_sc_new=pd.read_csv('df_sc_new.csv')\n",
    "df_sp_new=pd.read_csv('df_sp_new.csv')\n",
    "# df_sp_new.reset_index(inplace=True)\n",
    "\n",
    "df_sp_new['data_resolved']=df_sp_new['Data'].apply(lambda x: str(x)[:10])\n",
    "df_sc_new['data_resolved']=df_sc_new['Data'].apply(lambda x: str(x)[:10])\n",
    "\n",
    "df_sp_new.reset_index(inplace=True)\n",
    "\n",
    "df_sp_new = df_sp_new[['Temp_sp', 'NOx_sp', 'CO_sp', 'Chuva_sp', 'Pres_sp',\n",
    "       'Vel_Vento_sp', 'SO2_sp', 'PM10_sp', 'O3_sp', 'UR_sp', 'data_resolved']]\n",
    "\n",
    "df_sp_new = df_sp_new.groupby(['data_resolved'], sort=False)['Temp_sp', 'NOx_sp', 'CO_sp', 'Chuva_sp', 'Pres_sp',\n",
    "       'Vel_Vento_sp', 'SO2_sp', 'PM10_sp', 'O3_sp', 'UR_sp'].max()\n",
    "\n",
    "names = df_sp_new.columns\n",
    "\n",
    "from sklearn.preprocessing import MinMaxScaler\n",
    "scaler = MinMaxScaler() \n",
    "data_scaled_sp = scaler.fit_transform(df_sp_new)\n",
    "\n",
    "df_sp_new_scaled = pd.DataFrame(data_scaled_sp, columns=names)\n",
    "\n",
    "df_sp_new_scaled.index=df_sp_new.index\n",
    "\n",
    "df_sc_new.reset_index(inplace=True)\n",
    "\n",
    "# df_sc_new['data_resolved']=df_sc_new['Data'].apply(lambda x: str(x)[:10])\n",
    "\n",
    "df_sc_new = df_sc_new[['Temp_sc', 'NOx_sc', 'CO_sc', 'Chuva_sc', 'Pres_sc',\n",
    "       'Vel_Vento_sc', 'SO2_sc', 'PM10_sc', 'O3_sc', 'UR_sc', 'data_resolved']]\n",
    "\n",
    "df_sc_new = df_sc_new.groupby(['data_resolved'], sort=False)['Temp_sc', 'NOx_sc', 'CO_sc', 'Chuva_sc', 'Pres_sc',\n",
    "       'Vel_Vento_sc', 'SO2_sc', 'PM10_sc', 'O3_sc', 'UR_sc'].max()\n",
    "\n",
    "names = df_sc_new.columns\n",
    "\n",
    "# from sklearn.preprocessing import MinMaxScaler\n",
    "scaler = MinMaxScaler() \n",
    "data_scaled_sc = scaler.fit_transform(df_sc_new)\n",
    "df_sc_new_scaled = pd.DataFrame(data_scaled_sc, columns=names)\n",
    "df_sc_new_scaled.index=df_sc_new.index\n",
    "\n",
    "values = df_sc_new_scaled.values\n",
    "values = values.astype('float32')\n",
    "\n",
    "# convert series to supervised learning\n",
    "def series_to_supervised(data, n_in=10, n_out=10, dropnan=True):\n",
    "    n_vars = 1 if type(data) is list else data.shape[1]\n",
    "    df = DataFrame(data)\n",
    "    cols, names = list(), list()\n",
    "    # input sequence (t-n, ... t-1)\n",
    "    for i in range(n_in, 0, -1):\n",
    "        cols.append(df.shift(i))\n",
    "        names += [('var%d(t-%d)' % (j+1, i)) for j in range(n_vars)]\n",
    "    # forecast sequence (t, t+1, ... t+n)\n",
    "    for i in range(0, n_out):\n",
    "        cols.append(df.shift(-i))\n",
    "        if i == 0:\n",
    "            names += [('var%d(t)' % (j+1)) for j in range(n_vars)]\n",
    "        else:\n",
    "            names += [('var%d(t+%d)' % (j+1, i)) for j in range(n_vars)]\n",
    "    # put it all together\n",
    "    agg = concat(cols, axis=1)\n",
    "    agg.columns = names\n",
    "    # drop rows with NaN values\n",
    "    if dropnan:\n",
    "        agg.dropna(inplace=True)\n",
    "    return agg\n",
    "\n",
    "# specify the number of lag hours\n",
    "n_days = 7 #input\n",
    "n_features = 10 #10 colunas\n",
    "\n",
    "reframed = series_to_supervised(df_sc_new_scaled, n_days, 1)"
   ]
  },
  {
   "cell_type": "markdown",
   "metadata": {},
   "source": [
    "**treinamento do modelo para o primeiro 1/5 da divisão**"
   ]
  },
  {
   "cell_type": "code",
   "execution_count": 63,
   "metadata": {},
   "outputs": [],
   "source": [
    "reframed = series_to_supervised(df_sc_new_scaled, n_days, 1)\n",
    "reframed = reframed[:634]"
   ]
  },
  {
   "cell_type": "code",
   "execution_count": 64,
   "metadata": {},
   "outputs": [],
   "source": [
    "# split into train and test sets\n",
    "values = reframed.values\n",
    "n_train_days = 127"
   ]
  },
  {
   "cell_type": "code",
   "execution_count": 65,
   "metadata": {},
   "outputs": [
    {
     "name": "stdout",
     "output_type": "stream",
     "text": [
      "Epoch 1/5\n",
      "1/1 - 4s - loss: 0.1767 - val_loss: 0.1525\n",
      "Epoch 2/5\n",
      "1/1 - 0s - loss: 0.1750 - val_loss: 0.1509\n",
      "Epoch 3/5\n",
      "1/1 - 0s - loss: 0.1733 - val_loss: 0.1494\n",
      "Epoch 4/5\n",
      "1/1 - 0s - loss: 0.1716 - val_loss: 0.1477\n",
      "Epoch 5/5\n",
      "1/1 - 0s - loss: 0.1698 - val_loss: 0.1460\n",
      "\n",
      "Model Runtime: 4.21 seconds\n"
     ]
    }
   ],
   "source": [
    "train = values[:n_train_days, :]\n",
    "\n",
    "test = values[n_train_days:, :]\n",
    "\n",
    "# split into input and outputs\n",
    "n_obs = n_days * n_features\n",
    "\n",
    "train_X= train[:, :n_obs]\n",
    "\n",
    "train_y = train[:,n_obs:]\n",
    "\n",
    "test_X = test[:, :n_obs]\n",
    "\n",
    "test_y = test[:, n_obs:]\n",
    "\n",
    "train_X= train_X.reshape((train_X.shape[0], 1, n_obs))\n",
    "train_y = train_y.reshape((train_y.shape[0], 1, n_features))\n",
    "test_X= test_X.reshape((test_X.shape[0], 1, n_obs))\n",
    "test_y = test_y.reshape((test_y.shape[0], 1, n_features))\n",
    "\n",
    "# design network (falta ajustar o numero de camadas, neurônios etc)\n",
    "opt = Adam(learning_rate=0.0005)\n",
    "model = Sequential()\n",
    "model.add(LSTM(input_shape=(1,70),return_sequences=True, units=70)) #return=True é para retornar todas as variáveis\n",
    "model.add(TimeDistributed(Dense(10))) # é numero de variáveis\n",
    "# model.add(Dropout(0.2))\n",
    "model.add(LSTM(250,return_sequences=True))\n",
    "model.add(TimeDistributed(Dense(10)))\n",
    "# model.add(Dropout(0.2))\n",
    "model.add(Dense(10)) #talvez não precise\n",
    "# model.add(Activation(\"linear\"))\n",
    "model.compile(loss='mse', optimizer=opt)\n",
    "\n",
    "a=time.time()\n",
    "history = model.fit(train_X, train_y, epochs=5, batch_size=500, validation_data=(test_X, test_y), verbose=2, shuffle=False)\n",
    "print(\"\\nModel Runtime: %0.2f seconds\"%((time.time() - a)))"
   ]
  },
  {
   "cell_type": "markdown",
   "metadata": {},
   "source": [
    "**resultados do treinamento**"
   ]
  },
  {
   "cell_type": "code",
   "execution_count": 66,
   "metadata": {},
   "outputs": [],
   "source": [
    "yhat = model.predict(test_X)\n",
    "\n",
    "yhat_teste = yhat.reshape((yhat.shape[0], n_features))\n",
    "\n",
    "yhat = yhat.reshape((yhat.shape[0], n_features))\n",
    "test_y = test_y.reshape((test_y.shape[0], n_features))\n",
    "\n",
    "inv_yhat = scaler.inverse_transform(yhat)\n",
    "\n",
    "inv_test_y = scaler.inverse_transform(test_y)\n",
    "\n",
    "#dataframe\n",
    "df_inv_yhat=pd.DataFrame(inv_yhat,columns=names)\n",
    "df_test_y=pd.DataFrame(inv_test_y,columns=names)\n",
    "\n",
    "from IPython.core.interactiveshell import InteractiveShell\n",
    "InteractiveShell.ast_node_interactivity = \"all\""
   ]
  },
  {
   "cell_type": "code",
   "execution_count": 67,
   "metadata": {},
   "outputs": [
    {
     "name": "stdout",
     "output_type": "stream",
     "text": [
      "Test Temp_sc RMSE: 14.441\n",
      "Test NOx_sc RMSE: 95.288\n",
      "Test CO_sc RMSE: 1.184\n",
      "Test Chuva_sc RMSE: 3.600\n",
      "Test Pres_sc RMSE: 13.151\n",
      "Test Vel_Vento_sc RMSE: 1.497\n",
      "Test SO2_sc RMSE: 30.799\n",
      "Test PM10_sc RMSE: 68.953\n",
      "Test O3_sc RMSE: 52.981\n",
      "Test UR_sc RMSE: 33.784\n"
     ]
    }
   ],
   "source": [
    "rmse = sqrt(mean_squared_error(df_inv_yhat['Temp_sc'], df_test_y['Temp_sc']))\n",
    "print('Test Temp_sc RMSE: %.3f' % rmse)\n",
    "\n",
    "rmse = sqrt(mean_squared_error(df_inv_yhat['NOx_sc'], df_test_y['NOx_sc']))\n",
    "print('Test NOx_sc RMSE: %.3f' % rmse)\n",
    "\n",
    "rmse = sqrt(mean_squared_error(df_inv_yhat['CO_sc'], df_test_y['CO_sc']))\n",
    "print('Test CO_sc RMSE: %.3f' % rmse)\n",
    "\n",
    "rmse = sqrt(mean_squared_error(df_inv_yhat['Chuva_sc'], df_test_y['Chuva_sc']))\n",
    "print('Test Chuva_sc RMSE: %.3f' % rmse)\n",
    "\n",
    "rmse = sqrt(mean_squared_error(df_inv_yhat['Pres_sc'], df_test_y['Pres_sc']))\n",
    "print('Test Pres_sc RMSE: %.3f' % rmse)\n",
    "\n",
    "rmse = sqrt(mean_squared_error(df_inv_yhat['Vel_Vento_sc'], df_test_y['Vel_Vento_sc']))\n",
    "print('Test Vel_Vento_sc RMSE: %.3f' % rmse)\n",
    "\n",
    "rmse = sqrt(mean_squared_error(df_inv_yhat['SO2_sc'], df_test_y['SO2_sc']))\n",
    "print('Test SO2_sc RMSE: %.3f' % rmse)\n",
    "\n",
    "rmse = sqrt(mean_squared_error(df_inv_yhat['PM10_sc'], df_test_y['PM10_sc']))\n",
    "print('Test PM10_sc RMSE: %.3f' % rmse)\n",
    "\n",
    "rmse = sqrt(mean_squared_error(df_inv_yhat['O3_sc'], df_test_y['O3_sc']))\n",
    "print('Test O3_sc RMSE: %.3f' % rmse)\n",
    "\n",
    "rmse = sqrt(mean_squared_error(df_inv_yhat['UR_sc'], df_test_y['UR_sc']))\n",
    "print('Test UR_sc RMSE: %.3f' % rmse)"
   ]
  },
  {
   "cell_type": "code",
   "execution_count": 68,
   "metadata": {},
   "outputs": [
    {
     "name": "stdout",
     "output_type": "stream",
     "text": [
      "Test Temp_sc MAE: 13.554\n",
      "Test NOx_sc MAE: 73.403\n",
      "Test CO_sc MAE: 0.913\n",
      "Test Chuva_sc MAE: 1.547\n",
      "Test Pres_sc MAE: 12.442\n",
      "Test Vel_Vento_sc MAE: 1.354\n",
      "Test SO2_sc MAE: 23.249\n",
      "Test PM10_sc MAE: 61.338\n",
      "Test O3_sc MAE: 46.570\n",
      "Test UR_sc MAE: 32.671\n"
     ]
    }
   ],
   "source": [
    "mae = mean_absolute_error(df_inv_yhat['Temp_sc'], df_test_y['Temp_sc'])\n",
    "print('Test Temp_sc MAE: %.3f' % mae)\n",
    "\n",
    "mae = mean_absolute_error(df_inv_yhat['NOx_sc'], df_test_y['NOx_sc'])\n",
    "print('Test NOx_sc MAE: %.3f' % mae)\n",
    "\n",
    "mae = mean_absolute_error(df_inv_yhat['CO_sc'], df_test_y['CO_sc'])\n",
    "print('Test CO_sc MAE: %.3f' % mae)\n",
    "\n",
    "mae = mean_absolute_error(df_inv_yhat['Chuva_sc'], df_test_y['Chuva_sc'])\n",
    "print('Test Chuva_sc MAE: %.3f' % mae)\n",
    "\n",
    "mae = mean_absolute_error(df_inv_yhat['Pres_sc'], df_test_y['Pres_sc'])\n",
    "print('Test Pres_sc MAE: %.3f' % mae)\n",
    "\n",
    "mae = mean_absolute_error(df_inv_yhat['Vel_Vento_sc'], df_test_y['Vel_Vento_sc'])\n",
    "print('Test Vel_Vento_sc MAE: %.3f' % mae)\n",
    "\n",
    "mae = mean_absolute_error(df_inv_yhat['SO2_sc'], df_test_y['SO2_sc'])\n",
    "print('Test SO2_sc MAE: %.3f' % mae)\n",
    "\n",
    "mae = mean_absolute_error(df_inv_yhat['PM10_sc'], df_test_y['PM10_sc'])\n",
    "print('Test PM10_sc MAE: %.3f' % mae)\n",
    "\n",
    "mae = mean_absolute_error(df_inv_yhat['O3_sc'], df_test_y['O3_sc'])\n",
    "print('Test O3_sc MAE: %.3f' % mae)\n",
    "\n",
    "mae = mean_absolute_error(df_inv_yhat['UR_sc'], df_test_y['UR_sc'])\n",
    "print('Test UR_sc MAE: %.3f' % mae)"
   ]
  },
  {
   "cell_type": "code",
   "execution_count": 69,
   "metadata": {},
   "outputs": [
    {
     "name": "stdout",
     "output_type": "stream",
     "text": [
      "Test Temp_sc R2: -470064.302\n",
      "Test NOx_sc R2: -53357.856\n",
      "Test CO_sc R2: -21326.275\n",
      "Test Pres_sc R2: -70517.146\n",
      "Test Pres_sc R2: -70517.146\n",
      "Test Vel_Vento_sc R2: -63373.077\n",
      "Test SO2_sc R2: -20102.673\n",
      "Test PM10_sc R2: -31577.871\n",
      "Test O3_sc R2: -19989.096\n",
      "Test UR_sc R2: -166376.895\n"
     ]
    }
   ],
   "source": [
    "r2=r2_score(df_inv_yhat['Temp_sc'], df_test_y['Temp_sc'])\n",
    "print('Test Temp_sc R2: %.3f' % r2)\n",
    "\n",
    "r2=r2_score(df_inv_yhat['NOx_sc'], df_test_y['NOx_sc'])\n",
    "print('Test NOx_sc R2: %.3f' % r2)\n",
    "\n",
    "r2=r2_score(df_inv_yhat['CO_sc'], df_test_y['CO_sc'])\n",
    "print('Test CO_sc R2: %.3f' % r2)\n",
    "\n",
    "r2=r2_score(df_inv_yhat['Pres_sc'], df_test_y['Pres_sc'])\n",
    "print('Test Pres_sc R2: %.3f' % r2)\n",
    "\n",
    "r2=r2_score(df_inv_yhat['Pres_sc'], df_test_y['Pres_sc'])\n",
    "print('Test Pres_sc R2: %.3f' % r2)\n",
    "\n",
    "r2=r2_score(df_inv_yhat['Vel_Vento_sc'], df_test_y['Vel_Vento_sc'])\n",
    "print('Test Vel_Vento_sc R2: %.3f' % r2)\n",
    "\n",
    "r2=r2_score(df_inv_yhat['SO2_sc'], df_test_y['SO2_sc'])\n",
    "print('Test SO2_sc R2: %.3f' % r2)\n",
    "\n",
    "r2=r2_score(df_inv_yhat['PM10_sc'], df_test_y['PM10_sc'])\n",
    "print('Test PM10_sc R2: %.3f' % r2)\n",
    "\n",
    "r2=r2_score(df_inv_yhat['O3_sc'], df_test_y['O3_sc'])\n",
    "print('Test O3_sc R2: %.3f' % r2)\n",
    "\n",
    "r2=r2_score(df_inv_yhat['UR_sc'], df_test_y['UR_sc'])\n",
    "print('Test UR_sc R2: %.3f' % r2)"
   ]
  },
  {
   "cell_type": "markdown",
   "metadata": {},
   "source": [
    "**plot do histórico do treinamento**"
   ]
  },
  {
   "cell_type": "code",
   "execution_count": 71,
   "metadata": {},
   "outputs": [
    {
     "data": {
      "image/png": "[encoded data removed]",
      "text/plain": [
       "<Figure size 1296x648 with 1 Axes>"
      ]
     },
     "metadata": {},
     "output_type": "display_data"
    }
   ],
   "source": [
    "InteractiveShell.ast_node_interactivity = \"last_expr\"\n",
    "plt.style.use('seaborn')\n",
    "plt.figure(figsize=(18,9))\n",
    "pyplot.plot(history.history['loss'], label='train', color='blue')\n",
    "pyplot.plot(history.history['val_loss'], label='test', color='red')\n",
    "plt.xlabel('epoch',fontsize=20)\n",
    "plt.ylabel('loss',fontsize=20) \n",
    "# plt.title('train and test loss evolution',fontsize=20)\n",
    "plt.xticks(fontsize=20)\n",
    "plt.yticks(fontsize=20)\n",
    "plt.tight_layout()\n",
    "pyplot.legend(fontsize=20)\n",
    "pyplot.show()"
   ]
  },
  {
   "cell_type": "markdown",
   "metadata": {},
   "source": [
    "# validação cruzada- método 2- split cross validation"
   ]
  },
  {
   "cell_type": "code",
   "execution_count": null,
   "metadata": {},
   "outputs": [],
   "source": [
    "'''\n",
    "O que foi feito nesta etapa:\n",
    "----------------------------\n",
    "\n",
    "Conforme a teoria encontrada no artigo abaixo:\n",
    "https://medium.com/@soumyachess1496/cross-validation-in-time-series-566ae4981ce4\n",
    "\n",
    "Foram experimentadas dois métodos de validação cruzada com série temporal\n",
    "\n",
    "aqui usei k=5 e coloquei somente a primeira quinta parte do treinamento como exemplo, utilizando os dados do dataframe\n",
    "correspondente a estação de São Cristóvão\n",
    "\n",
    "'''"
   ]
  },
  {
   "cell_type": "code",
   "execution_count": 60,
   "metadata": {},
   "outputs": [
    {
     "data": {
      "image/png": "[encoded data removed]",
      "text/plain": [
       "<IPython.core.display.Image object>"
      ]
     },
     "execution_count": 60,
     "metadata": {},
     "output_type": "execute_result"
    }
   ],
   "source": [
    "Image(\"split.png\")"
   ]
  },
  {
   "cell_type": "markdown",
   "metadata": {},
   "source": [
    "**divisão dos fold (k=5) e treinamento para o primeiro 1/5**"
   ]
  },
  {
   "cell_type": "code",
   "execution_count": 87,
   "metadata": {},
   "outputs": [
    {
     "name": "stdout",
     "output_type": "stream",
     "text": [
      "Epoch 1/5\n",
      "2/2 - 4s - loss: 0.1628 - val_loss: 0.1300\n",
      "Epoch 2/5\n",
      "2/2 - 0s - loss: 0.1595 - val_loss: 0.1273\n",
      "Epoch 3/5\n",
      "2/2 - 0s - loss: 0.1561 - val_loss: 0.1244\n",
      "Epoch 4/5\n",
      "2/2 - 0s - loss: 0.1523 - val_loss: 0.1210\n",
      "Epoch 5/5\n",
      "2/2 - 0s - loss: 0.1479 - val_loss: 0.1172\n",
      "\n",
      "Model Runtime: 3.99 seconds\n"
     ]
    }
   ],
   "source": [
    "import pandas as pd\n",
    "import warnings\n",
    "import time\n",
    "import seaborn as sns\n",
    "import missingno as msno\n",
    "import warnings\n",
    "from matplotlib import pyplot as plt\n",
    "import datetime\n",
    "import numpy as np\n",
    "from statsmodels.graphics.tsaplots import plot_acf\n",
    "from statsmodels.graphics.tsaplots import plot_pacf\n",
    "from matplotlib import pyplot\n",
    "pd.set_option('display.max_columns',100)\n",
    "\n",
    "from pandas import read_csv\n",
    "from pandas import DataFrame\n",
    "from pandas import concat\n",
    "from sklearn.preprocessing import LabelEncoder\n",
    "from sklearn.preprocessing import MinMaxScaler\n",
    "from sklearn.metrics import mean_squared_error\n",
    "from sklearn.metrics import mean_absolute_error\n",
    "from sklearn.metrics import r2_score #colocar citação\n",
    "\n",
    "from math import sqrt\n",
    "from numpy import concatenate\n",
    "from matplotlib import pyplot\n",
    "\n",
    "from tensorflow.keras.layers import Dense\n",
    "from tensorflow.keras.layers import LSTM\n",
    "from tensorflow.keras.optimizers import Adam\n",
    "from tensorflow.keras.models import Sequential\n",
    "from tensorflow.keras.layers import TimeDistributed\n",
    "warnings.filterwarnings(\"ignore\")\n",
    "\n",
    "df_sc_new=pd.read_csv('df_sc_new.csv')\n",
    "df_sp_new=pd.read_csv('df_sp_new.csv')\n",
    "\n",
    "df_sc_new['data_resolved']=df_sc_new['Data'].apply(lambda x: str(x)[:10])\n",
    "\n",
    "df_sc_new.reset_index(inplace=True)\n",
    "\n",
    "df_sc_new = df_sc_new[['Temp_sc', 'NOx_sc', 'CO_sc', 'Chuva_sc', 'Pres_sc',\n",
    "       'Vel_Vento_sc', 'SO2_sc', 'PM10_sc', 'O3_sc', 'UR_sc', 'data_resolved']]\n",
    "\n",
    "df_sc_new = df_sc_new.groupby(['data_resolved'], sort=False)['Temp_sc', 'NOx_sc', 'CO_sc', 'Chuva_sc', 'Pres_sc',\n",
    "       'Vel_Vento_sc', 'SO2_sc', 'PM10_sc', 'O3_sc', 'UR_sc'].max()\n",
    "\n",
    "names = df_sc_new.columns\n",
    "\n",
    "from sklearn.preprocessing import MinMaxScaler\n",
    "scaler = MinMaxScaler() \n",
    "data_scaled_sc = scaler.fit_transform(df_sc_new)\n",
    "\n",
    "df_sc_new_scaled = pd.DataFrame(data_scaled_sc, columns=names)\n",
    "\n",
    "df_sc_new_scaled.index=df_sc_new.index\n",
    "values = df_sc_new_scaled.values\n",
    "\n",
    "values = values.astype('float32')\n",
    "\n",
    "# convert series to supervised learning\n",
    "def series_to_supervised(data, n_in=10, n_out=10, dropnan=True):\n",
    "    n_vars = 1 if type(data) is list else data.shape[1]\n",
    "    df = DataFrame(data)\n",
    "    cols, names = list(), list()\n",
    "    # input sequence (t-n, ... t-1)\n",
    "    for i in range(n_in, 0, -1):\n",
    "        cols.append(df.shift(i))\n",
    "        names += [('var%d(t-%d)' % (j+1, i)) for j in range(n_vars)]\n",
    "    # forecast sequence (t, t+1, ... t+n)\n",
    "    for i in range(0, n_out):\n",
    "        cols.append(df.shift(-i))\n",
    "        if i == 0:\n",
    "            names += [('var%d(t)' % (j+1)) for j in range(n_vars)]\n",
    "        else:\n",
    "            names += [('var%d(t+%d)' % (j+1, i)) for j in range(n_vars)]\n",
    "    # put it all together\n",
    "    agg = concat(cols, axis=1)\n",
    "    agg.columns = names\n",
    "    # drop rows with NaN values\n",
    "    if dropnan:\n",
    "        agg.dropna(inplace=True)\n",
    "    return agg\n",
    "\n",
    "# specify the number of lag hours\n",
    "n_days = 7 #input\n",
    "n_features = 10 #10 colunas\n",
    "\n",
    "reframed = series_to_supervised(df_sc_new_scaled, n_days, 1)\n",
    "\n",
    "#split 1: 528 + 528\n",
    "\n",
    "reframed = reframed[:1056]\n",
    "\n",
    "# split into train and test sets\n",
    "values = reframed.values\n",
    "n_train_days = 528\n",
    "\n",
    "train = values[:n_train_days, :]\n",
    "\n",
    "test = values[n_train_days:, :]\n",
    "\n",
    "# split into input and outputs\n",
    "n_obs = n_days * n_features\n",
    "\n",
    "train_X= train[:, :n_obs]\n",
    "\n",
    "train_y = train[:,n_obs:]\n",
    "\n",
    "test_X = test[:, :n_obs]\n",
    "\n",
    "test_y = test[:, n_obs:]\n",
    "\n",
    "train_X= train_X.reshape((train_X.shape[0], 1, n_obs))\n",
    "train_y = train_y.reshape((train_y.shape[0], 1, n_features))\n",
    "test_X= test_X.reshape((test_X.shape[0], 1, n_obs))\n",
    "test_y = test_y.reshape((test_y.shape[0], 1, n_features))\n",
    "\n",
    "# design network (falta ajustar o numero de camadas, neurônios etc)\n",
    "opt = Adam(learning_rate=0.0005)\n",
    "model = Sequential()\n",
    "model.add(LSTM(input_shape=(1,70),return_sequences=True, units=70)) #return=True é para retornar todas as variáveis\n",
    "model.add(TimeDistributed(Dense(10))) # é numero de variáveis\n",
    "# model.add(Dropout(0.2))\n",
    "model.add(LSTM(250,return_sequences=True))\n",
    "model.add(TimeDistributed(Dense(10)))\n",
    "# model.add(Dropout(0.2))\n",
    "model.add(Dense(10)) #talvez não precise\n",
    "# model.add(Activation(\"linear\"))\n",
    "model.compile(loss='mse', optimizer=opt)\n",
    "\n",
    "a=time.time()\n",
    "history = model.fit(train_X, train_y, epochs=5, batch_size=500, validation_data=(test_X, test_y), verbose=2, shuffle=False)\n",
    "print(\"\\nModel Runtime: %0.2f seconds\"%((time.time() - a)))"
   ]
  },
  {
   "cell_type": "markdown",
   "metadata": {},
   "source": [
    "**resultados do treinamento**"
   ]
  },
  {
   "cell_type": "code",
   "execution_count": 88,
   "metadata": {},
   "outputs": [],
   "source": [
    "yhat = model.predict(test_X)\n",
    "\n",
    "yhat_teste = yhat.reshape((yhat.shape[0], n_features))\n",
    "\n",
    "yhat = yhat.reshape((yhat.shape[0], n_features))\n",
    "test_y = test_y.reshape((test_y.shape[0], n_features))\n",
    "\n",
    "inv_yhat = scaler.inverse_transform(yhat)\n",
    "\n",
    "inv_test_y = scaler.inverse_transform(test_y)\n",
    "\n",
    "#dataframe\n",
    "df_inv_yhat=pd.DataFrame(inv_yhat,columns=names)\n",
    "df_test_y=pd.DataFrame(inv_test_y,columns=names)\n",
    "\n",
    "from IPython.core.interactiveshell import InteractiveShell\n",
    "InteractiveShell.ast_node_interactivity = \"all\""
   ]
  },
  {
   "cell_type": "code",
   "execution_count": 89,
   "metadata": {},
   "outputs": [
    {
     "name": "stdout",
     "output_type": "stream",
     "text": [
      "Test Temp_sc RMSE: 12.152\n",
      "Test NOx_sc RMSE: 128.121\n",
      "Test CO_sc RMSE: 1.073\n",
      "Test Chuva_sc RMSE: 2.994\n",
      "Test Pres_sc RMSE: 14.073\n",
      "Test Vel_Vento_sc RMSE: 1.501\n",
      "Test SO2_sc RMSE: 25.442\n",
      "Test PM10_sc RMSE: 71.897\n",
      "Test O3_sc RMSE: 61.010\n",
      "Test UR_sc RMSE: 25.102\n"
     ]
    }
   ],
   "source": [
    "rmse = sqrt(mean_squared_error(df_inv_yhat['Temp_sc'], df_test_y['Temp_sc']))\n",
    "print('Test Temp_sc RMSE: %.3f' % rmse)\n",
    "\n",
    "rmse = sqrt(mean_squared_error(df_inv_yhat['NOx_sc'], df_test_y['NOx_sc']))\n",
    "print('Test NOx_sc RMSE: %.3f' % rmse)\n",
    "\n",
    "rmse = sqrt(mean_squared_error(df_inv_yhat['CO_sc'], df_test_y['CO_sc']))\n",
    "print('Test CO_sc RMSE: %.3f' % rmse)\n",
    "\n",
    "rmse = sqrt(mean_squared_error(df_inv_yhat['Chuva_sc'], df_test_y['Chuva_sc']))\n",
    "print('Test Chuva_sc RMSE: %.3f' % rmse)\n",
    "\n",
    "rmse = sqrt(mean_squared_error(df_inv_yhat['Pres_sc'], df_test_y['Pres_sc']))\n",
    "print('Test Pres_sc RMSE: %.3f' % rmse)\n",
    "\n",
    "rmse = sqrt(mean_squared_error(df_inv_yhat['Vel_Vento_sc'], df_test_y['Vel_Vento_sc']))\n",
    "print('Test Vel_Vento_sc RMSE: %.3f' % rmse)\n",
    "\n",
    "rmse = sqrt(mean_squared_error(df_inv_yhat['SO2_sc'], df_test_y['SO2_sc']))\n",
    "print('Test SO2_sc RMSE: %.3f' % rmse)\n",
    "\n",
    "rmse = sqrt(mean_squared_error(df_inv_yhat['PM10_sc'], df_test_y['PM10_sc']))\n",
    "print('Test PM10_sc RMSE: %.3f' % rmse)\n",
    "\n",
    "rmse = sqrt(mean_squared_error(df_inv_yhat['O3_sc'], df_test_y['O3_sc']))\n",
    "print('Test O3_sc RMSE: %.3f' % rmse)\n",
    "\n",
    "rmse = sqrt(mean_squared_error(df_inv_yhat['UR_sc'], df_test_y['UR_sc']))\n",
    "print('Test UR_sc RMSE: %.3f' % rmse)"
   ]
  },
  {
   "cell_type": "code",
   "execution_count": 90,
   "metadata": {},
   "outputs": [
    {
     "name": "stdout",
     "output_type": "stream",
     "text": [
      "Test Temp_sc MAE: 11.253\n",
      "Test NOx_sc MAE: 114.477\n",
      "Test CO_sc MAE: 0.841\n",
      "Test Chuva_sc MAE: 1.106\n",
      "Test Pres_sc MAE: 13.346\n",
      "Test Vel_Vento_sc MAE: 1.319\n",
      "Test SO2_sc MAE: 20.317\n",
      "Test PM10_sc MAE: 64.361\n",
      "Test O3_sc MAE: 53.495\n",
      "Test UR_sc MAE: 24.017\n"
     ]
    }
   ],
   "source": [
    "mae = mean_absolute_error(df_inv_yhat['Temp_sc'], df_test_y['Temp_sc'])\n",
    "print('Test Temp_sc MAE: %.3f' % mae)\n",
    "\n",
    "mae = mean_absolute_error(df_inv_yhat['NOx_sc'], df_test_y['NOx_sc'])\n",
    "print('Test NOx_sc MAE: %.3f' % mae)\n",
    "\n",
    "mae = mean_absolute_error(df_inv_yhat['CO_sc'], df_test_y['CO_sc'])\n",
    "print('Test CO_sc MAE: %.3f' % mae)\n",
    "\n",
    "mae = mean_absolute_error(df_inv_yhat['Chuva_sc'], df_test_y['Chuva_sc'])\n",
    "print('Test Chuva_sc MAE: %.3f' % mae)\n",
    "\n",
    "mae = mean_absolute_error(df_inv_yhat['Pres_sc'], df_test_y['Pres_sc'])\n",
    "print('Test Pres_sc MAE: %.3f' % mae)\n",
    "\n",
    "mae = mean_absolute_error(df_inv_yhat['Vel_Vento_sc'], df_test_y['Vel_Vento_sc'])\n",
    "print('Test Vel_Vento_sc MAE: %.3f' % mae)\n",
    "\n",
    "mae = mean_absolute_error(df_inv_yhat['SO2_sc'], df_test_y['SO2_sc'])\n",
    "print('Test SO2_sc MAE: %.3f' % mae)\n",
    "\n",
    "mae = mean_absolute_error(df_inv_yhat['PM10_sc'], df_test_y['PM10_sc'])\n",
    "print('Test PM10_sc MAE: %.3f' % mae)\n",
    "\n",
    "mae = mean_absolute_error(df_inv_yhat['O3_sc'], df_test_y['O3_sc'])\n",
    "print('Test O3_sc MAE: %.3f' % mae)\n",
    "\n",
    "mae = mean_absolute_error(df_inv_yhat['UR_sc'], df_test_y['UR_sc'])\n",
    "print('Test UR_sc MAE: %.3f' % mae)"
   ]
  },
  {
   "cell_type": "code",
   "execution_count": 91,
   "metadata": {},
   "outputs": [
    {
     "name": "stdout",
     "output_type": "stream",
     "text": [
      "Test Temp_sc R2: -81475.701\n",
      "Test NOx_sc R2: -107956.169\n",
      "Test CO_sc R2: -11985.472\n",
      "Test Pres_sc R2: -212184.279\n",
      "Test Pres_sc R2: -212184.279\n",
      "Test Vel_Vento_sc R2: -62248.325\n",
      "Test SO2_sc R2: -7669.515\n",
      "Test PM10_sc R2: -41668.887\n",
      "Test O3_sc R2: -7946.556\n",
      "Test UR_sc R2: -63480.286\n"
     ]
    }
   ],
   "source": [
    "r2=r2_score(df_inv_yhat['Temp_sc'], df_test_y['Temp_sc'])\n",
    "print('Test Temp_sc R2: %.3f' % r2)\n",
    "\n",
    "r2=r2_score(df_inv_yhat['NOx_sc'], df_test_y['NOx_sc'])\n",
    "print('Test NOx_sc R2: %.3f' % r2)\n",
    "\n",
    "r2=r2_score(df_inv_yhat['CO_sc'], df_test_y['CO_sc'])\n",
    "print('Test CO_sc R2: %.3f' % r2)\n",
    "\n",
    "r2=r2_score(df_inv_yhat['Pres_sc'], df_test_y['Pres_sc'])\n",
    "print('Test Pres_sc R2: %.3f' % r2)\n",
    "\n",
    "r2=r2_score(df_inv_yhat['Pres_sc'], df_test_y['Pres_sc'])\n",
    "print('Test Pres_sc R2: %.3f' % r2)\n",
    "\n",
    "r2=r2_score(df_inv_yhat['Vel_Vento_sc'], df_test_y['Vel_Vento_sc'])\n",
    "print('Test Vel_Vento_sc R2: %.3f' % r2)\n",
    "\n",
    "r2=r2_score(df_inv_yhat['SO2_sc'], df_test_y['SO2_sc'])\n",
    "print('Test SO2_sc R2: %.3f' % r2)\n",
    "\n",
    "r2=r2_score(df_inv_yhat['PM10_sc'], df_test_y['PM10_sc'])\n",
    "print('Test PM10_sc R2: %.3f' % r2)\n",
    "\n",
    "r2=r2_score(df_inv_yhat['O3_sc'], df_test_y['O3_sc'])\n",
    "print('Test O3_sc R2: %.3f' % r2)\n",
    "\n",
    "r2=r2_score(df_inv_yhat['UR_sc'], df_test_y['UR_sc'])\n",
    "print('Test UR_sc R2: %.3f' % r2)"
   ]
  },
  {
   "cell_type": "markdown",
   "metadata": {},
   "source": [
    "**histórico do treinamento**"
   ]
  },
  {
   "cell_type": "code",
   "execution_count": 92,
   "metadata": {},
   "outputs": [],
   "source": [
    "InteractiveShell.ast_node_interactivity = \"last_expr\""
   ]
  },
  {
   "cell_type": "code",
   "execution_count": 93,
   "metadata": {},
   "outputs": [
    {
     "data": {
      "image/png": "[encoded data removed]",
      "text/plain": [
       "<Figure size 1296x648 with 1 Axes>"
      ]
     },
     "metadata": {},
     "output_type": "display_data"
    }
   ],
   "source": [
    "plt.style.use('seaborn')\n",
    "plt.figure(figsize=(18,9))\n",
    "pyplot.plot(history.history['loss'], label='train', color='blue')\n",
    "pyplot.plot(history.history['val_loss'], label='test', color='red')\n",
    "plt.xlabel('epoch',fontsize=20)\n",
    "plt.ylabel('loss',fontsize=20) \n",
    "# plt.title('train and test loss evolution',fontsize=20)\n",
    "plt.xticks(fontsize=20)\n",
    "plt.yticks(fontsize=20)\n",
    "plt.tight_layout()\n",
    "pyplot.legend(fontsize=20)\n",
    "pyplot.show()"
   ]
  },
  {
   "cell_type": "markdown",
   "metadata": {},
   "source": [
    "# links sobre hiperparâmetros de redes neurais recorrentes LSTM"
   ]
  },
  {
   "cell_type": "code",
   "execution_count": null,
   "metadata": {},
   "outputs": [],
   "source": [
    "'''\n",
    "O que foi feito nesta etapa:\n",
    "----------------------------\n",
    "\n",
    "Nesta etapa, com intuito de conseguir o melhor modelo, pesquisei sobre os hiperparâmetros que compõem as redes LSTM.\n",
    "Abaixo seguem os links que salvei da pesquisa\n",
    "\n",
    "'''"
   ]
  },
  {
   "cell_type": "markdown",
   "metadata": {},
   "source": [
    "**-ativação (x)**\n",
    "https://keras.io/api/layers/activations/\n",
    "https://machinelearningmastery.com/choose-an-activation-function-for-deep-learning/\n",
    "https://medium.com/@snaily16/what-why-and-which-activation-functions-b2bf748c0441\n",
    "http://kth.diva-portal.org/smash/get/diva2:1465073/FULLTEXT01.pdf\n",
    "\n",
    "**-diferença entre ativação e recurrent_activation (x)**:\n",
    "https://stackoverflow.com/questions/44947842/can-someone-explain-to-me-the-difference-between-activation-and-recurrent-activa\n",
    "\n",
    "**-significado dos layers:(x)**\n",
    "https://stackoverflow.com/questions/57414387/meaning-of-tf-keras-layers-lstm-parameters\n",
    "https://machinelearningmastery.com/use-dropout-lstm-networks-time-series-forecasting/\n",
    "\n",
    "**-kernel initializer:(x)**\n",
    "https://keras.io/api/layers/initializers/\n",
    "https://towardsdatascience.com/weight-initialization-techniques-in-neural-networks-26c649eb3b78\n",
    "https://wandb.ai/sayakpaul/weight-initialization-tb/reports/Effects-of-Weight-Initialization-on-Neural-Networks--Vmlldzo2ODY0NA\n",
    "\n",
    "**-recurrent initializer:(x)**\n",
    "https://stackoverflow.com/questions/63630659/what-does-recurrent-initializer-do\n",
    "https://notebook.community/infilect/ml-course1/deep-learning-keras/keras-notebooks/RNN/7.1%20RNN%20and%20LSTM\n",
    "https://stackoverflow.com/questions/64881855/kernel-and-recurrent-kernel-in-keras-lstms\n",
    "\n",
    "**-bias initializer:(x)**\n",
    "https://www.tutorialexample.com/understand-lstm-weight-and-bias-initialization-when-initializer-is-none-in-tensorflow-tensorflow-tutorial/\n",
    "https://medium.com/@glenmeyerowitz/bias-initialization-in-a-neural-network-2e5d26fed0f0\n",
    "https://cs231n.github.io/neural-networks-2/\n",
    "\n",
    "\n",
    "**-kernel regularizer:(x)**\n",
    "https://machinelearningmastery.com/use-weight-regularization-lstm-networks-time-series-forecasting/ https://stats.stackexchange.com/questions/164876/what-is-the-trade-off-between-batch-size-and-number-of-iterations-to-train-a-neu https://machinelearningmastery.com/difference-between-a-batch-and-an-epoch/\n",
    "\n",
    "**-bias regularizer:(x)**\n",
    "https://machinelearningmastery.com/how-to-reduce-overfitting-in-deep-learning-with-weight-regularization/\n",
    "\n",
    "**-activity regularizer:(x)**\n",
    "https://machinelearningmastery.com/how-to-reduce-generalization-error-in-deep-neural-networks-with-activity-regularization-in-keras/\n",
    "\n",
    "**-kernel constraint:(x)**\n",
    "https://machinelearningmastery.com/how-to-reduce-overfitting-in-deep-neural-networks-with-weight-constraints-in-keras/\n",
    "\n",
    "**-dropout:(x)**\n",
    "https://machinelearningmastery.com/how-to-reduce-overfitting-with-dropout-regularization-in-keras/\n",
    "\n",
    "**-recurrent dropout:(x)**\n",
    "https://stackoverflow.com/questions/44924690/keras-the-difference-between-lstm-dropout-and-lstm-recurrent-dropout\n",
    "\n",
    "**-return sequences/states:(x)**\n",
    "https://machinelearningmastery.com/return-sequences-and-return-states-for-lstms-in-keras/\n",
    "https://www.dlology.com/blog/how-to-use-return_state-or-return_sequences-in-keras/\n",
    "\n",
    "**-go backwards:(x)**\n",
    "https://stackoverflow.com/questions/49946942/keras-lstm-go-backwards-usage\n",
    "\n",
    "**-stateful:(x)**\n",
    "https://machinelearningmastery.com/stateful-stateless-lstm-time-series-forecasting-python/\n",
    "https://stackoverflow.com/questions/39681046/keras-stateful-vs-stateless-lstms\n",
    "\n",
    "**-time_major:(x)**\n",
    "https://stackoverflow.com/questions/42130491/batch-major-vs-time-major-lstm\n",
    "\n",
    "**-unroll:(x)**\n",
    "https://machinelearningmastery.com/rnn-unrolling/\n",
    "https://stats.stackexchange.com/questions/492040/what-is-unrolling-in-lstm"
   ]
  }
 ],
 "metadata": {
  "kernelspec": {
   "display_name": "Python 3",
   "language": "python",
   "name": "python3"
  },
  "language_info": {
   "codemirror_mode": {
    "name": "ipython",
    "version": 3
   },
   "file_extension": ".py",
   "mimetype": "text/x-python",
   "name": "python",
   "nbconvert_exporter": "python",
   "pygments_lexer": "ipython3",
   "version": "3.8.5"
  }
 },
 "nbformat": 4,
 "nbformat_minor": 4
}
